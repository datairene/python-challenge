{
 "cells": [
  {
   "cell_type": "code",
   "execution_count": 1,
   "id": "d00e192c-a5a6-46c4-8383-edf873ba04df",
   "metadata": {},
   "outputs": [],
   "source": [
    "import csv"
   ]
  },
  {
   "cell_type": "code",
   "execution_count": 2,
   "id": "2ec77062-33c3-4bdb-8056-675b894ef019",
   "metadata": {},
   "outputs": [],
   "source": [
    "#define variables\n",
    "total_votes = 0\n",
    "candidates = {}\n"
   ]
  },
  {
   "cell_type": "code",
   "execution_count": 4,
   "id": "0ce155c3-a567-4b40-aa51-4d2d399f6497",
   "metadata": {},
   "outputs": [],
   "source": [
    "with open(\"election_data.csv\", \"r\") as file:\n",
    "    csvreader = csv.reader(file)\n",
    "    \n",
    "    # Skip the header row\n",
    "    header = next(csvreader)\n",
    "    \n",
    "    # Iterate through the rows\n",
    "    for row in csvreader:\n",
    "        voter_id = row[0]\n",
    "        county = row[1]\n",
    "        candidate = row[2]\n",
    "        \n",
    "        # Calculate the total number of votes cast\n",
    "        total_votes += 1\n",
    "        \n",
    "        # Add the candidate to the dictionary of candidates and update their vote count\n",
    "        if candidate in candidates:\n",
    "            candidates[candidate] += 1\n",
    "        else:\n",
    "            candidates[candidate] = 1\n"
   ]
  },
  {
   "cell_type": "code",
   "execution_count": 5,
   "id": "25de1bad-068b-4be1-9462-257064cd8465",
   "metadata": {},
   "outputs": [],
   "source": [
    "percentage_votes = {candidate: (votes / total_votes) * 100 for candidate, votes in candidates.items()}\n"
   ]
  },
  {
   "cell_type": "code",
   "execution_count": 6,
   "id": "833d20e0-8df2-4eda-b877-f0b2c08d8da7",
   "metadata": {},
   "outputs": [],
   "source": [
    "winner = max(candidates, key=candidates.get)\n"
   ]
  },
  {
   "cell_type": "code",
   "execution_count": 7,
   "id": "54b659e5-b93b-49bb-ad82-fdb5ebfc5d06",
   "metadata": {},
   "outputs": [
    {
     "name": "stdout",
     "output_type": "stream",
     "text": [
      "Election Results\n",
      "----------------------------\n",
      "Total Votes: 369711\n",
      "----------------------------\n",
      "Charles Casper Stockham: 23.049% (85213)\n",
      "Diana DeGette: 73.812% (272892)\n",
      "Raymon Anthony Doane: 3.139% (11606)\n",
      "----------------------------\n",
      "Winner: Diana DeGette\n",
      "----------------------------\n"
     ]
    }
   ],
   "source": [
    "print(\"Election Results\")\n",
    "print(\"----------------------------\")\n",
    "print(f\"Total Votes: {total_votes}\")\n",
    "print(\"----------------------------\")\n",
    "for candidate, votes in candidates.items():\n",
    "    print(f\"{candidate}: {percentage_votes[candidate]:.3f}% ({votes})\")\n",
    "print(\"----------------------------\")\n",
    "print(f\"Winner: {winner}\")\n",
    "print(\"----------------------------\")\n"
   ]
  },
  {
   "cell_type": "code",
   "execution_count": 9,
   "id": "3dce09b6-0755-478a-b449-1b182716ed23",
   "metadata": {},
   "outputs": [],
   "source": [
    "with open(\"election_results.txt\", \"w\") as output_file:\n",
    "    output_file.write(\"Election Results\\n\")\n",
    "    output_file.write(\"----------------------------\\n\")\n",
    "    output_file.write(f\"Total Votes: {total_votes}\\n\")\n",
    "    output_file.write(\"----------------------------\\n\")\n",
    "    for candidate, votes in candidates.items():\n",
    "        output_file.write(f\"{candidate}: {percentage_votes[candidate]:.3f}% ({votes})\\n\")\n",
    "    output_file.write(\"----------------------------\\n\")\n",
    "    output_file.write(f\"Winner: {winner}\\n\")\n",
    "    output_file.write(\"----------------------------\\n\")\n"
   ]
  },
  {
   "cell_type": "code",
   "execution_count": null,
   "id": "b434f57f-045a-49a7-8aa6-4a4905f8d977",
   "metadata": {},
   "outputs": [],
   "source": []
  }
 ],
 "metadata": {
  "kernelspec": {
   "display_name": "Python 3 (ipykernel)",
   "language": "python",
   "name": "python3"
  },
  "language_info": {
   "codemirror_mode": {
    "name": "ipython",
    "version": 3
   },
   "file_extension": ".py",
   "mimetype": "text/x-python",
   "name": "python",
   "nbconvert_exporter": "python",
   "pygments_lexer": "ipython3",
   "version": "3.11.5"
  }
 },
 "nbformat": 4,
 "nbformat_minor": 5
}
