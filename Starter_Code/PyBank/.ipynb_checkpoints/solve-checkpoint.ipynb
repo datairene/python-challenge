{
 "cells": [
  {
   "cell_type": "code",
   "execution_count": 6,
   "id": "ff1c35ca-252b-400f-a4ef-7332dcbaf0a8",
   "metadata": {},
   "outputs": [],
   "source": [
    "import csv"
   ]
  },
  {
   "cell_type": "code",
   "execution_count": 7,
   "id": "ac64fea1-7480-417f-ab4f-fece7b844fa0",
   "metadata": {},
   "outputs": [],
   "source": [
    "total_months = 0\n",
    "net_total = 0\n",
    "previous_profit = None\n",
    "profit_change = 0\n",
    "greatest_increase = 0\n",
    "greatest_decrease = 0\n",
    "greatest_increase_date = \"\"\n",
    "greatest_decrease_date = \"\"\n",
    "profit_changes = []"
   ]
  },
  {
   "cell_type": "code",
   "execution_count": 8,
   "id": "84191314-8cd6-424f-a6bd-27d176dbdb97",
   "metadata": {},
   "outputs": [],
   "source": [
    "with open(\"budget_data.csv\", \"r\") as file:\n",
    "    csvreader = csv.reader(file)\n",
    "    \n",
    "    header = next(csvreader)\n",
    "    \n",
    "    # Iterate through the rows in the CSV file\n",
    "    for row in csvreader:\n",
    "        date = row[0]\n",
    "        profit_loss = int(row[1])\n",
    "        \n",
    "        # The total number of months and the net total profit/loss\n",
    "        total_months += 1\n",
    "        net_total += profit_loss\n",
    "        \n",
    "        # Calculate profit changes\n",
    "        if previous_profit is not None:\n",
    "            profit_change = profit_loss - previous_profit\n",
    "            profit_changes.append(profit_change)\n",
    "        \n",
    "        # Check for the greatest increase and decrease in profits\n",
    "        if profit_change > greatest_increase:\n",
    "            greatest_increase = profit_change\n",
    "            greatest_increase_date = date\n",
    "        if profit_change < greatest_decrease:\n",
    "            greatest_decrease = profit_change\n",
    "            greatest_decrease_date = date\n",
    "        \n",
    "        # Update the previous profit for the next iteration\n",
    "        previous_profit = profit_loss\n"
   ]
  },
  {
   "cell_type": "code",
   "execution_count": 9,
   "id": "e876898f-08de-4713-9084-e7b6615171c5",
   "metadata": {},
   "outputs": [],
   "source": [
    "average_change = sum(profit_changes) / len(profit_changes)\n"
   ]
  },
  {
   "cell_type": "code",
   "execution_count": 10,
   "id": "1f48f467-aae5-4f3c-960e-34b04912318e",
   "metadata": {},
   "outputs": [
    {
     "name": "stdout",
     "output_type": "stream",
     "text": [
      "Financial Analysis\n",
      "----------------------------\n",
      "Total Months: 86\n",
      "Total: $22564198\n",
      "Average Change: $-8311.11\n",
      "Greatest Increase in Profits: Aug-16 ($1862002)\n",
      "Greatest Decrease in Profits: Feb-14 ($-1825558)\n"
     ]
    }
   ],
   "source": [
    "print(\"Financial Analysis\")\n",
    "print(\"----------------------------\")\n",
    "print(f\"Total Months: {total_months}\")\n",
    "print(f\"Total: ${net_total}\")\n",
    "print(f\"Average Change: ${average_change:.2f}\")\n",
    "print(f\"Greatest Increase in Profits: {greatest_increase_date} (${greatest_increase})\")\n",
    "print(f\"Greatest Decrease in Profits: {greatest_decrease_date} (${greatest_decrease})\")\n"
   ]
  },
  {
   "cell_type": "code",
   "execution_count": null,
   "id": "3ab4dfb6-d999-4ce6-a65b-c14c23db269a",
   "metadata": {},
   "outputs": [],
   "source": []
  }
 ],
 "metadata": {
  "kernelspec": {
   "display_name": "Python 3 (ipykernel)",
   "language": "python",
   "name": "python3"
  },
  "language_info": {
   "codemirror_mode": {
    "name": "ipython",
    "version": 3
   },
   "file_extension": ".py",
   "mimetype": "text/x-python",
   "name": "python",
   "nbconvert_exporter": "python",
   "pygments_lexer": "ipython3",
   "version": "3.11.5"
  }
 },
 "nbformat": 4,
 "nbformat_minor": 5
}
